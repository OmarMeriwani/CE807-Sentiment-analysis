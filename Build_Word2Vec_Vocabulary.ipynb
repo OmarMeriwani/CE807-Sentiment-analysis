{
  "nbformat": 4,
  "nbformat_minor": 0,
  "metadata": {
    "colab": {
      "name": "Build Word2Vec Vocabulary.ipynb",
      "version": "0.3.2",
      "provenance": [],
      "include_colab_link": true
    },
    "kernelspec": {
      "name": "python3",
      "display_name": "Python 3"
    }
  },
  "cells": [
    {
      "cell_type": "markdown",
      "metadata": {
        "id": "view-in-github",
        "colab_type": "text"
      },
      "source": [
        "<a href=\"https://colab.research.google.com/github/OmarMeriwani/CE807-Sentiment-analysis/blob/master/Build_Word2Vec_Vocabulary.ipynb\" target=\"_parent\"><img src=\"https://colab.research.google.com/assets/colab-badge.svg\" alt=\"Open In Colab\"/></a>"
      ]
    },
    {
      "metadata": {
        "id": "PDMDKhrUTp4X",
        "colab_type": "text"
      },
      "cell_type": "markdown",
      "source": [
        "Building vocabulary file to be used for word2vec model"
      ]
    },
    {
      "metadata": {
        "id": "xph6Qrr6Tmp4",
        "colab_type": "code",
        "colab": {}
      },
      "cell_type": "code",
      "source": [
        "import pandas as pd\n",
        "from nltk.corpus import stopwords\n",
        "from collections import Counter\n",
        "from string import punctuation\n"
      ],
      "execution_count": 0,
      "outputs": []
    },
    {
      "metadata": {
        "id": "xTDlTeOxTrfa",
        "colab_type": "text"
      },
      "cell_type": "markdown",
      "source": [
        "Read only full sentences to be used for building the vocabulary"
      ]
    },
    {
      "metadata": {
        "id": "ZmZdZMfOTrmr",
        "colab_type": "code",
        "colab": {}
      },
      "cell_type": "code",
      "source": [
        "def readfile(filename):\n",
        "    df = pd.read_csv(filename,header=0,sep='\\t')\n",
        "    mode = 's'\n",
        "    data = ''\n",
        "    prev = ''\n",
        "    for i in range(0,len(df)):\n",
        "        if mode != 'all':\n",
        "            if prev != str(df.loc[i][1]):\n",
        "                sentence = df.loc[i][2]\n",
        "                prev = str(df.loc[i][1])\n",
        "            else:\n",
        "                continue\n",
        "        else:\n",
        "            sentence = df.loc[i][2]\n",
        "        data = data + '.' + sentence\n",
        "    return data\n"
      ],
      "execution_count": 0,
      "outputs": []
    },
    {
      "metadata": {
        "id": "qnI5heF5TrtW",
        "colab_type": "text"
      },
      "cell_type": "markdown",
      "source": [
        "Cleaning sentences, removing stop words, punctuation and tokenize the sentences"
      ]
    },
    {
      "metadata": {
        "id": "L913NwUxTr0C",
        "colab_type": "code",
        "colab": {}
      },
      "cell_type": "code",
      "source": [
        "def clean_doc(doc):\n",
        "    # split into tokens by white space\n",
        "    tokens = doc.split()\n",
        "    # remove punctuation from each token\n",
        "    table = str.maketrans('', '', punctuation)\n",
        "    tokens = [w.translate(table) for w in tokens]\n",
        "    # remove remaining tokens that are not alphabetic\n",
        "    tokens = [word for word in tokens if word.isalpha()]\n",
        "    # filter out stop words\n",
        "    stop_words = set(stopwords.words('english'))\n",
        "    tokens = [w for w in tokens if not w in stop_words]\n",
        "    # filter out short tokens\n",
        "    tokens = [word for word in tokens if len(word) > 1]\n",
        "    return tokens\n"
      ],
      "execution_count": 0,
      "outputs": []
    },
    {
      "metadata": {
        "id": "2dll5BMuTr6s",
        "colab_type": "text"
      },
      "cell_type": "markdown",
      "source": [
        "Combine the sentences of training and testing dataset to expand the vocabulary"
      ]
    },
    {
      "metadata": {
        "id": "1S2DiKaWUeAh",
        "colab_type": "code",
        "colab": {}
      },
      "cell_type": "code",
      "source": [
        "data = readfile('train.csv')\n",
        "data2 = readfile('test.csv')\n",
        "data = data +' '+  data2\n"
      ],
      "execution_count": 0,
      "outputs": []
    },
    {
      "metadata": {
        "id": "TH7nm65AUeJU",
        "colab_type": "text"
      },
      "cell_type": "markdown",
      "source": [
        "Cleaning the data and storing the vocabulary only for words that occur for  2 times or more in the corpus."
      ]
    },
    {
      "metadata": {
        "id": "X4L3fIQkTsBZ",
        "colab_type": "code",
        "colab": {}
      },
      "cell_type": "code",
      "source": [
        "\n",
        "\n",
        "tokens = clean_doc(data)\n",
        "vocabulary = Counter()\n",
        "vocabulary.update(tokens)\n",
        "items = [word for word, count in vocabulary.items() if count >= 2]\n",
        "items = '\\n'.join(items)\n",
        "file = open('vocabulary.txt', 'w')\n",
        "file.write(items)\n",
        "file.close()\n",
        "\n"
      ],
      "execution_count": 0,
      "outputs": []
    }
  ]
}