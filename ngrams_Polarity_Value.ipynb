{
  "nbformat": 4,
  "nbformat_minor": 0,
  "metadata": {
    "colab": {
      "name": "ngrams Polarity Value.ipynb",
      "version": "0.3.2",
      "provenance": [],
      "collapsed_sections": [],
      "include_colab_link": true
    },
    "kernelspec": {
      "name": "python3",
      "display_name": "Python 3"
    }
  },
  "cells": [
    {
      "cell_type": "markdown",
      "metadata": {
        "id": "view-in-github",
        "colab_type": "text"
      },
      "source": [
        "<a href=\"https://colab.research.google.com/github/OmarMeriwani/CE807-Sentiment-analysis/blob/master/ngrams_Polarity_Value.ipynb\" target=\"_parent\"><img src=\"https://colab.research.google.com/assets/colab-badge.svg\" alt=\"Open In Colab\"/></a>"
      ]
    },
    {
      "metadata": {
        "id": "pMQTKs6FIejO",
        "colab_type": "text"
      },
      "cell_type": "markdown",
      "source": [
        "This document contains the code of creating bigrams and unigrams of words that have extreme negative or positive values, that could be used as an indication to the polarity of the sentences. "
      ]
    },
    {
      "metadata": {
        "id": "FsnkN54PHNYG",
        "colab_type": "code",
        "colab": {}
      },
      "cell_type": "code",
      "source": [
        "import pandas as pd\n",
        "import numpy as np\n",
        "from nltk.corpus import stopwords\n",
        "import nltk\n",
        "from nltk.tokenize import RegexpTokenizer\n",
        "import os\n",
        "import string\n",
        "stop_words = stopwords.words('english')\n"
      ],
      "execution_count": 0,
      "outputs": []
    },
    {
      "metadata": {
        "id": "clGQ_aNgHNrL",
        "colab_type": "text"
      },
      "cell_type": "markdown",
      "source": [
        "Reading the training file, and preparing two dataframes to store the results, and an array that contain negation words."
      ]
    },
    {
      "metadata": {
        "id": "xqh66KBtHNyz",
        "colab_type": "code",
        "colab": {}
      },
      "cell_type": "code",
      "source": [
        "df = pd.read_csv('train.csv',header=0,sep='\\t')\n",
        "prev = ''\n",
        "unigrams = pd.DataFrame(columns=['word','polarity'])\n",
        "bigrams = pd.DataFrame(columns=['word1','word2','polarity'])\n",
        "counter1 = 0\n",
        "counter2 = 0\n",
        "stop_words = [s for s in stop_words if s not in ['no', 'not', 'never', 'n’t', 'nt']]\n"
      ],
      "execution_count": 0,
      "outputs": []
    },
    {
      "metadata": {
        "id": "0AxYFaPeHN60",
        "colab_type": "text"
      },
      "cell_type": "markdown",
      "source": [
        "In this feature, we only checked the parts of the sentences, which contains one or two words with specific sentiment value. "
      ]
    },
    {
      "metadata": {
        "id": "bBvaKJyWHOB2",
        "colab_type": "code",
        "colab": {}
      },
      "cell_type": "code",
      "source": [
        "for i in range(0,len(df)):\n",
        "    sentence = ''\n",
        "    polarity = df.loc[i][3]\n",
        "    if prev == str(df.loc[i][1]):\n",
        "        sentence = df.loc[i][2]\n",
        "    else:\n",
        "        prev = str(df.loc[i][1])\n",
        "        continue\n",
        "        \n",
        "    '''\n",
        "    Tokenization and removing stopwords and punctuation\n",
        "    '''\n",
        "    tknzr = RegexpTokenizer(r'\\w+')\n",
        "    tokens = tknzr.tokenize(sentence)\n",
        "    tokensWithoutStopWords = [str(t).lower() for t in tokens if t not in stop_words]\n",
        "    '''\n",
        "    We have chosen only the unigrams and bigrams of words with extreme values (0 and 4) and we added them to the lists\n",
        "    '''\n",
        "    if polarity ==0 or polarity == 4:\n",
        "    if len(tokensWithoutStopWords) == 1:\n",
        "        unigrams.loc[counter1] = [tokensWithoutStopWords[0],polarity]\n",
        "        counter1 += 1\n",
        "    if len(tokensWithoutStopWords) == 2:\n",
        "        bigrams.loc[counter2] = [tokensWithoutStopWords[0],tokensWithoutStopWords[1],polarity]\n",
        "        counter2 += 1\n",
        "    print(i)\n",
        "\n"
      ],
      "execution_count": 0,
      "outputs": []
    },
    {
      "metadata": {
        "id": "qIiGvKTLHOkz",
        "colab_type": "text"
      },
      "cell_type": "markdown",
      "source": [
        "Store the two resulting lists in CSV files"
      ]
    },
    {
      "metadata": {
        "id": "5hTuHT4rFtRb",
        "colab_type": "code",
        "colab": {}
      },
      "cell_type": "code",
      "source": [
        "\n",
        "\n",
        "unigrams.to_csv('UnigramsPolarity.csv')\n",
        "bigrams.to_csv('BigramsPolarity.csv')\n"
      ],
      "execution_count": 0,
      "outputs": []
    }
  ]
}