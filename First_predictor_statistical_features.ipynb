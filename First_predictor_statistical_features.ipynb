{
  "nbformat": 4,
  "nbformat_minor": 0,
  "metadata": {
    "colab": {
      "name": "First predictor - statistical features.ipynb",
      "version": "0.3.2",
      "provenance": [],
      "include_colab_link": true
    },
    "kernelspec": {
      "name": "python3",
      "display_name": "Python 3"
    }
  },
  "cells": [
    {
      "cell_type": "markdown",
      "metadata": {
        "id": "view-in-github",
        "colab_type": "text"
      },
      "source": [
        "<a href=\"https://colab.research.google.com/github/OmarMeriwani/CE807-Sentiment-analysis/blob/master/First_predictor_statistical_features.ipynb\" target=\"_parent\"><img src=\"https://colab.research.google.com/assets/colab-badge.svg\" alt=\"Open In Colab\"/></a>"
      ]
    },
    {
      "metadata": {
        "id": "6GBK6UTuSwFL",
        "colab_type": "text"
      },
      "cell_type": "markdown",
      "source": [
        "The predictor using the features extracted manually via [feature_extraction](https://github.com/OmarMeriwani/CE807-Sentiment-analysis/blob/master/Feature_extraction.ipynb) file"
      ]
    },
    {
      "metadata": {
        "id": "y1aobd8JSthg",
        "colab_type": "code",
        "colab": {}
      },
      "cell_type": "code",
      "source": [
        "import pandas as pd\n",
        "import numpy as np\n",
        "from sklearn.naive_bayes import GaussianNB\n",
        "from sklearn.model_selection import train_test_split\n",
        "from sklearn.metrics import accuracy_score, classification_report, cohen_kappa_score"
      ],
      "execution_count": 0,
      "outputs": []
    },
    {
      "metadata": {
        "id": "fPTwM44_SuI_",
        "colab_type": "text"
      },
      "cell_type": "markdown",
      "source": [
        "Read the features set and split it into training and testing"
      ]
    },
    {
      "metadata": {
        "id": "kS1KjP_JSuhk",
        "colab_type": "code",
        "colab": {}
      },
      "cell_type": "code",
      "source": [
        "df  =pd.read_csv('TrainingDataset.csv', header=0, sep=',')\n",
        "train, test = train_test_split(df, test_size=0.2)\n"
      ],
      "execution_count": 0,
      "outputs": []
    },
    {
      "metadata": {
        "id": "5YhQmYCfTBmQ",
        "colab_type": "text"
      },
      "cell_type": "markdown",
      "source": [
        "Assign the features and the results to the two training sets."
      ]
    },
    {
      "metadata": {
        "id": "twL5yaHHTBuf",
        "colab_type": "code",
        "colab": {}
      },
      "cell_type": "code",
      "source": [
        "columns = ['BigramsPolarity','UnigramsPolarity','SenticnetAVG','senticnetMAX','WordsInScore','POSSequenceScore']\n",
        "x_train = list(np.array(train)[:, [3]])\n",
        "y_train = train['y']\n",
        "\n",
        "x_test = list(np.array(test)[:,[3]])\n",
        "y_test = test['y']"
      ],
      "execution_count": 0,
      "outputs": []
    },
    {
      "metadata": {
        "id": "fQtv2zNsTQoc",
        "colab_type": "text"
      },
      "cell_type": "markdown",
      "source": [
        "Fit the model, and predict the result and get the evaluation"
      ]
    },
    {
      "metadata": {
        "id": "b7_lD3Y6TPfW",
        "colab_type": "code",
        "colab": {}
      },
      "cell_type": "code",
      "source": [
        "nb = GaussianNB()\n",
        "nb.fit(x_train,y_train)\n",
        "y_pred = nb.predict(x_test)\n",
        "print(len(y_pred))\n",
        "print(len(y_test))\n",
        "\n",
        "print(\"\\n====================Kappa Statistic====================\\n\", cohen_kappa_score(y_test, y_pred) )\n",
        "print(\"\\n====================Confusion Matrix====================\\n\", pd.crosstab(y_test, y_pred))\n",
        "print(\"\\n====================Precision table====================\\n\", classification_report(y_test, y_pred))\n",
        "print(\"\\n====================Accuracy====================\\n \", accuracy_score(y_test, y_pred))"
      ],
      "execution_count": 0,
      "outputs": []
    }
  ]
}