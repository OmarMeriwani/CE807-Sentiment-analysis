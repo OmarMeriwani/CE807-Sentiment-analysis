{
  "nbformat": 4,
  "nbformat_minor": 0,
  "metadata": {
    "colab": {
      "name": "POS Ngrams.ipynb",
      "version": "0.3.2",
      "provenance": [],
      "collapsed_sections": [],
      "include_colab_link": true
    },
    "kernelspec": {
      "name": "python3",
      "display_name": "Python 3"
    }
  },
  "cells": [
    {
      "cell_type": "markdown",
      "metadata": {
        "id": "view-in-github",
        "colab_type": "text"
      },
      "source": [
        "<a href=\"https://colab.research.google.com/github/OmarMeriwani/CE807-Sentiment-analysis/blob/master/POS_Ngrams.ipynb\" target=\"_parent\"><img src=\"https://colab.research.google.com/assets/colab-badge.svg\" alt=\"Open In Colab\"/></a>"
      ]
    },
    {
      "metadata": {
        "id": "rCdk0FH1NaX7",
        "colab_type": "text"
      },
      "cell_type": "markdown",
      "source": [
        "This document explains the extraction of POS ngrams that are used to occur with negative or positive reviews."
      ]
    },
    {
      "metadata": {
        "id": "-UxtWrANNXY6",
        "colab_type": "code",
        "colab": {}
      },
      "cell_type": "code",
      "source": [
        "import pandas as pd\n",
        "from nltk.tokenize import sent_tokenize\n",
        "from stanfordcorenlp import StanfordCoreNLP\n",
        "from nltk.corpus import stopwords\n",
        "from nltk.tokenize import RegexpTokenizer\n",
        "import os\n",
        "from nltk.stem.porter import *\n",
        "\n",
        "java_path = \"C:/Program Files/Java/jdk1.8.0_161/bin/java.exe\"\n",
        "os.environ['JAVAHOME'] = java_path\n",
        "host='http://localhost'\n",
        "port=9000\n",
        "scnlp =StanfordCoreNLP(host, port=port,lang='en', timeout=30000)\n",
        "stemmer = PorterStemmer()\n",
        "\n",
        "stop_words = stopwords.words('english')\n",
        "\n",
        "df = pd.read_csv('train.csv',header=0,sep='\\t')\n",
        "prev = ''\n",
        "tknzr = RegexpTokenizer(r'\\w+')\n",
        "ListOfCleanTokens = []\n"
      ],
      "execution_count": 0,
      "outputs": []
    },
    {
      "metadata": {
        "id": "vh57Id4jNYhd",
        "colab_type": "text"
      },
      "cell_type": "markdown",
      "source": [
        "This method gets the POS tags of a specific sentence, and the it loops to get the wanted ngram (trigrams, bigrams..etc) and then returns a list of non-separated POS tags within the wanted ngram range."
      ]
    },
    {
      "metadata": {
        "id": "bD2UuAmZNr_d",
        "colab_type": "code",
        "colab": {}
      },
      "cell_type": "code",
      "source": [
        "def getNgram(tags,gram):\n",
        "    counter = 0\n",
        "    ngrams = []\n",
        "    while counter < len(tags):\n",
        "        if counter + gram <= len(tags) - 1:\n",
        "            temp = []\n",
        "            for i in range(counter, counter + gram):\n",
        "                temp.append(tags[i])\n",
        "            ngrams.append(''.join(temp))\n",
        "            counter += 1\n",
        "        else:\n",
        "            break\n",
        "    return ngrams\n"
      ],
      "execution_count": 0,
      "outputs": []
    },
    {
      "metadata": {
        "id": "l6AAXh-YNsID",
        "colab_type": "text"
      },
      "cell_type": "markdown",
      "source": [
        "Preparing three arrays to store the results."
      ]
    },
    {
      "metadata": {
        "id": "guTTNuSyNsQc",
        "colab_type": "code",
        "colab": {}
      },
      "cell_type": "code",
      "source": [
        "postrigrams = []\n",
        "posquadgrams = []\n",
        "pospetagram = []\n"
      ],
      "execution_count": 0,
      "outputs": []
    },
    {
      "metadata": {
        "id": "fscqCf8mNsXI",
        "colab_type": "text"
      },
      "cell_type": "markdown",
      "source": [
        "In the below steps, the values are getting acquired from the training set, the POS tags are extracted, ngrams of POS sequences as well, the the results for each sentence are stored with the review polarity value that has been assigned to training dataset."
      ]
    },
    {
      "metadata": {
        "id": "8ikRpy5QOK1v",
        "colab_type": "code",
        "colab": {}
      },
      "cell_type": "code",
      "source": [
        "for i in range(0,len(df)):\n",
        "    '''\n",
        "    Getting values from each row in training dataset\n",
        "    '''\n",
        "    sentence = df.loc[i][2]\n",
        "    sentences = sent_tokenize(sentence)\n",
        "    reviewPolarity = int(df.loc[i][3])\n",
        "    tokens = []\n",
        "    '''\n",
        "    Extracting POS tags for each sentence, and getting only POS tags from the resulting tuples of (Word,POStag)\n",
        "    '''\n",
        "    POStagged = scnlp.pos_tag(sentence)\n",
        "    POSTags = [p for word, p in POStagged]\n",
        "    '''\n",
        "    Getting POS tag ngrams (3,4,5) using the above method getNgram and removing any punctuation from the results.\n",
        "    '''\n",
        "    POSTriGrams = getNgram( POSTags,3)\n",
        "    POSQuadriGrams = getNgram(POSTags,4)\n",
        "    POSPentaGrams = getNgram(POSTags,5)\n",
        "    POSTriGrams = [str(t).replace(',','').replace(':','') for t in POSTriGrams]\n",
        "    POSQuadriGrams = [str(t).replace(',','').replace(':','') for t in POSQuadriGrams]\n",
        "    POSPentaGrams = [str(t).replace(',','').replace(':','') for t in POSPentaGrams]\n",
        "    '''\n",
        "    Appending the results to the lists, beside the review polarity values from training data.\n",
        "    '''\n",
        "    if len(POSTriGrams) != 0:\n",
        "        postrigrams.append([reviewPolarity,POSTriGrams])\n",
        "    if len(POSQuadriGrams) != 0:\n",
        "        posquadgrams.append([reviewPolarity,POSQuadriGrams])\n",
        "    if len(POSPentaGrams) != 0:\n",
        "        pospetagram.append([reviewPolarity,POSPentaGrams])\n",
        "    if i > 1000:\n",
        "        break\n"
      ],
      "execution_count": 0,
      "outputs": []
    },
    {
      "metadata": {
        "id": "6TKirSsjOLJ-",
        "colab_type": "text"
      },
      "cell_type": "markdown",
      "source": [
        "Working with each group of ngrams separatly; a dictionary value will be set to count the occurances of each POS ngram and to separate the POS sequences into negative and positive according to their polarity values (below or above 2) then each group of POS ngrams is going to be stored separatly in a CSV."
      ]
    },
    {
      "metadata": {
        "id": "iFKNMDZfNYz8",
        "colab_type": "code",
        "colab": {}
      },
      "cell_type": "code",
      "source": [
        "\n",
        "#Get POS from positive reviews\n",
        "groups = 0\n",
        "while groups < 3:\n",
        "    PositivePOS = {}\n",
        "    NegativePOS = {}\n",
        "\n",
        "    posseq = []\n",
        "    if groups == 0:\n",
        "        posseq = postrigrams\n",
        "    if groups == 1:\n",
        "        posseq = posquadgrams\n",
        "    if groups == 2:\n",
        "        posseq = pospetagram\n",
        "    '''\n",
        "    The above while loop is used to deal with the three groups of POS ngrams using the same code\n",
        "    '''\n",
        "    \n",
        "    '''\n",
        "    For each list in the ngram set\n",
        "    and for each POS tag in each list\n",
        "    '''\n",
        "    for tt in posseq:\n",
        "        for pt in tt[1]:\n",
        "          \n",
        "          '''\n",
        "          Positive and negative POS tags are stored separatly\n",
        "          '''\n",
        "            if tt[0] > 2:\n",
        "                if pt not in PositivePOS:\n",
        "                    PositivePOS[pt] = 1\n",
        "                else:\n",
        "                    PositivePOS[pt] = PositivePOS.get(pt)  + 1\n",
        "    #Get POS from negative reviews\n",
        "            if tt[0] < 2:\n",
        "                if pt not in NegativePOS:\n",
        "                    NegativePOS[pt] = 1\n",
        "                else:\n",
        "                    NegativePOS[pt] = NegativePOS.get(pt)  + 1\n",
        "\n",
        "    #Remove the intersection between the negative and positive POS\n",
        "    intersection = [t for t,i in PositivePOS.items() if t in NegativePOS]\n",
        "    for i in intersection:\n",
        "        if i in PositivePOS:\n",
        "            PositivePOS.pop(i)\n",
        "    for i in intersection:\n",
        "        if i in NegativePOS:\n",
        "            NegativePOS.pop(i)\n",
        "            \n",
        "    '''\n",
        "    STORE THE RESULTS with the number of occurances \n",
        "    '''\n",
        "    filename = ''\n",
        "    if groups == 0:\n",
        "        filename = 'POSTrigrams.csv'\n",
        "    if groups == 1:\n",
        "        filename = 'POSQgrams.csv'\n",
        "    if groups == 2:\n",
        "        filename = 'POSPgrams.csv'\n",
        "\n",
        "    with open(filename, 'w') as f:\n",
        "        for key in PositivePOS.keys():\n",
        "            f.write(\"%s,%s,%s\\n\"%(key,PositivePOS[key],1))\n",
        "        for key in NegativePOS.keys():\n",
        "            f.write(\"%s,%s,%s\\n\"%(key,NegativePOS[key],-1))\n",
        "\n",
        "    groups += 1"
      ],
      "execution_count": 0,
      "outputs": []
    }
  ]
}